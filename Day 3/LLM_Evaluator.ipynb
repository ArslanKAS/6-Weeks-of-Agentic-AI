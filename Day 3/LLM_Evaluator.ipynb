{
 "cells": [
  {
   "cell_type": "markdown",
   "metadata": {},
   "source": [
    "# LLM Evaluator\n",
    "\n",
    "Today we're going to build something with immediate value!\n",
    "\n",
    "In the folder `me` I've put a single file `linkedin.pdf` - it's a PDF download of my LinkedIn profile.\n",
    "\n",
    "Please replace it with yours!\n",
    "\n",
    "I've also made a file called `summary.txt`\n",
    "\n",
    "We're not going to use Tools just yet - we're going to add the tool tomorrow."
   ]
  },
  {
   "cell_type": "code",
   "execution_count": 28,
   "metadata": {},
   "outputs": [],
   "source": [
    "# If you don't know what any of these packages do - you can always ask ChatGPT for a guide!\n",
    "\n",
    "from dotenv import load_dotenv\n",
    "from openai import OpenAI\n",
    "from pypdf import PdfReader\n",
    "import gradio as gr"
   ]
  },
  {
   "cell_type": "code",
   "execution_count": 29,
   "metadata": {},
   "outputs": [],
   "source": [
    "load_dotenv(override=True)\n",
    "openai = OpenAI()"
   ]
  },
  {
   "cell_type": "code",
   "execution_count": 30,
   "metadata": {},
   "outputs": [],
   "source": [
    "reader = PdfReader(\"Profile.pdf\")\n",
    "linkedin = \"\"\n",
    "for page in reader.pages:\n",
    "    text = page.extract_text()\n",
    "    if text:\n",
    "        linkedin += text"
   ]
  },
  {
   "cell_type": "code",
   "execution_count": 31,
   "metadata": {},
   "outputs": [
    {
     "name": "stdout",
     "output_type": "stream",
     "text": [
      "   \n",
      "Contact\n",
      "+923367464851 (Mobile)\n",
      "arslanchaos@gmail.com\n",
      "www.linkedin.com/in/arslankas\n",
      "(LinkedIn)\n",
      "github.com/ArslanKAS (Portfolio)\n",
      "Top Skills\n",
      "C++\n",
      "WordPress\n",
      "Photogrammetry\n",
      "Languages\n",
      "English\n",
      "Certifications\n",
      "Intro to ChatGPT and Generative AI\n",
      "Applied Data Science Workshop\n",
      "Content Marketing & Advertising\n",
      "Abacus.AI AI/ML Platform Workshop\n",
      "NIAIS Data Science Workshop\n",
      "Arsalan Ali\n",
      "Data Scientist | AI-Engineer | LLM-Engineer\n",
      "Faisalabad District, Punjab, Pakistan\n",
      "Summary\n",
      "As a skilled professional in Data Science and Machine Learning, I\n",
      "am passionate about utilizing data to drive business decisions and\n",
      "improve organizational efficiency. My expertise includes designing\n",
      "and implementing ML models, data analysis, visualization, and\n",
      "proficiency in Python, SQL and data visualization tools like Tableau\n",
      "and Power BI. I am a strong communicator and team player, able\n",
      "to convey complex technical concepts and work collaboratively with\n",
      "cross-functional teams. I am eager to continue my professional\n",
      "growth in the field and open to new opportunities. Let's connect and\n",
      "discuss how we can drive business success through data-driven\n",
      "insights.\n",
      "Experience\n",
      "CX-EX\n",
      "AI Engineer\n",
      "April 2023 - Present (2 years 2 months)\n",
      "Australia\n",
      "- Automation using Selenium (WhatsApp, LinkedIn, Telegram, Gmail)\n",
      "- Web Scraping using BeautifulSoup and HTTPX\n",
      "- Figma GUI to PyQt5 GUI conversion\n",
      "- Async Programming in Python\n",
      "- OpenAI ChatGPT API Integration\n",
      "- FARM Tech (FastAPI, React, MongoDB)\n",
      "- AWS Services\n",
      "- Azure VM, PostgreSQL along with Python\n",
      "- Generative AI (LLMs and LVMs)\n",
      "Codanics\n",
      "Data Analyst Intern\n",
      "March 2022 - August 2022 (6 months)\n",
      "- Data Analysis using Pandas and Numpy\n",
      "- Forecasting of Price of “Sastaticket Flights”\n",
      "  Page 1 of 2   \n",
      "- Learned Supervised Learning Algorithms\n",
      "- Problem Solving & Collaboration\n",
      "- Social Media Presence and Exposure\n",
      "Prettyrobe\n",
      "Creative Art Director\n",
      "May 2021 - November 2021 (7 months)\n",
      "Faisalabad, Punjab, Pakistan\n",
      "- Brand Research\n",
      "- Brand Design\n",
      "- Social Media Marketing\n",
      "- Web UI/UX\n",
      "- Video Editing\n",
      "- Photography Coordinator\n",
      "Career Institute\n",
      "DBA Intern\n",
      "January 2021 - March 2021 (3 months)\n",
      "Faisalabad, Punjab, Pakistan\n",
      "- Database Design\n",
      "- SQL Queries\n",
      "- Form Building\n",
      "- DBA Workflow\n",
      "Education\n",
      "University of Agriculture, Faisalabad\n",
      "Master of Science - MS, Computer Science · (2017 - 2019)\n",
      "Federal Urdu University of Arts, Science & Technology, Islamabad.\n",
      "Bachelor of Science - BS, Computer Science · (2010 - 2015)\n",
      "  Page 2 of 2\n"
     ]
    }
   ],
   "source": [
    "print(linkedin)"
   ]
  },
  {
   "cell_type": "code",
   "execution_count": 32,
   "metadata": {},
   "outputs": [],
   "source": [
    "with open(\"Summary.txt\", \"r\", encoding=\"utf-8\") as f:\n",
    "    summary = f.read()"
   ]
  },
  {
   "cell_type": "code",
   "execution_count": 33,
   "metadata": {},
   "outputs": [],
   "source": [
    "name = \"Arsalan Ali\""
   ]
  },
  {
   "cell_type": "code",
   "execution_count": 34,
   "metadata": {},
   "outputs": [],
   "source": [
    "system_prompt = f\"You are acting as {name}. You are answering questions on {name}'s website, \\\n",
    "particularly questions related to {name}'s career, background, skills and experience. \\\n",
    "Your responsibility is to represent {name} for interactions on the website as faithfully as possible. \\\n",
    "You are given a summary of {name}'s background and LinkedIn profile which you can use to answer questions. \\\n",
    "Be professional and engaging, as if talking to a potential client or future employer who came across the website. \\\n",
    "If you don't know the answer, say so.\"\n",
    "\n",
    "system_prompt += f\"\\n\\n## Summary:\\n{summary}\\n\\n## LinkedIn Profile:\\n{linkedin}\\n\\n\"\n",
    "system_prompt += f\"With this context, please chat with the user, always staying in character as {name}.\"\n"
   ]
  },
  {
   "cell_type": "code",
   "execution_count": 35,
   "metadata": {},
   "outputs": [
    {
     "data": {
      "text/plain": [
       "\"You are acting as Arsalan Ali. You are answering questions on Arsalan Ali's website, particularly questions related to Arsalan Ali's career, background, skills and experience. Your responsibility is to represent Arsalan Ali for interactions on the website as faithfully as possible. You are given a summary of Arsalan Ali's background and LinkedIn profile which you can use to answer questions. Be professional and engaging, as if talking to a potential client or future employer who came across the website. If you don't know the answer, say so.\\n\\n## Summary:\\n**Summary:**\\n\\nArsalan Ali is a versatile and skilled AI Engineer and Data Scientist based in Faisalabad, Pakistan, with a strong background in data science, machine learning, and software engineering. Currently working at CX-EX, he brings expertise in Python, SQL, ML model development, automation (using tools like Selenium and BeautifulSoup), and integration of generative AI models such as ChatGPT. His experience spans multiple domains including web development, creative design, and database administration, gained through roles at Codanics, Prettyrobe, and Career Institute. Arsalan holds a Master’s in Computer Science and is certified in various AI and data science workshops. He is passionate about turning data into actionable insights to drive business outcomes and is actively open to connecting for new opportunities and collaborations.\\n\\n\\n## LinkedIn Profile:\\n\\xa0 \\xa0\\nContact\\n+923367464851 (Mobile)\\narslanchaos@gmail.com\\nwww.linkedin.com/in/arslankas\\n(LinkedIn)\\ngithub.com/ArslanKAS (Portfolio)\\nTop Skills\\nC++\\nWordPress\\nPhotogrammetry\\nLanguages\\nEnglish\\nCertifications\\nIntro to ChatGPT and Generative AI\\nApplied Data Science Workshop\\nContent Marketing & Advertising\\nAbacus.AI AI/ML Platform Workshop\\nNIAIS Data Science Workshop\\nArsalan Ali\\nData Scientist | AI-Engineer | LLM-Engineer\\nFaisalabad District, Punjab, Pakistan\\nSummary\\nAs a skilled professional in Data Science and Machine Learning, I\\nam passionate about utilizing data to drive business decisions and\\nimprove organizational efficiency. My expertise includes designing\\nand implementing ML models, data analysis, visualization, and\\nproficiency in Python, SQL and data visualization tools like Tableau\\nand Power BI. I am a strong communicator and team player, able\\nto convey complex technical concepts and work collaboratively with\\ncross-functional teams. I am eager to continue my professional\\ngrowth in the field and open to new opportunities. Let's connect and\\ndiscuss how we can drive business success through data-driven\\ninsights.\\nExperience\\nCX-EX\\nAI Engineer\\nApril 2023\\xa0-\\xa0Present\\xa0(2 years 2 months)\\nAustralia\\n- Automation using Selenium (WhatsApp, LinkedIn, Telegram, Gmail)\\n- Web Scraping using BeautifulSoup and HTTPX\\n- Figma GUI to PyQt5 GUI conversion\\n- Async Programming in Python\\n- OpenAI ChatGPT API Integration\\n- FARM Tech (FastAPI, React, MongoDB)\\n- AWS Services\\n- Azure VM, PostgreSQL along with Python\\n- Generative AI (LLMs and LVMs)\\nCodanics\\nData Analyst Intern\\nMarch 2022\\xa0-\\xa0August 2022\\xa0(6 months)\\n- Data Analysis using Pandas and Numpy\\n- Forecasting of Price of “Sastaticket Flights”\\n\\xa0 Page 1 of 2\\xa0 \\xa0\\n- Learned Supervised Learning Algorithms\\n- Problem Solving & Collaboration\\n- Social Media Presence and Exposure\\nPrettyrobe\\nCreative Art Director\\nMay 2021\\xa0-\\xa0November 2021\\xa0(7 months)\\nFaisalabad, Punjab, Pakistan\\n- Brand Research\\n- Brand Design\\n- Social Media Marketing\\n- Web UI/UX\\n- Video Editing\\n- Photography Coordinator\\nCareer Institute\\nDBA Intern\\nJanuary 2021\\xa0-\\xa0March 2021\\xa0(3 months)\\nFaisalabad, Punjab, Pakistan\\n- Database Design\\n- SQL Queries\\n- Form Building\\n- DBA Workflow\\nEducation\\nUniversity of Agriculture, Faisalabad\\nMaster of Science - MS,\\xa0Computer Science\\xa0·\\xa0(2017\\xa0-\\xa02019)\\nFederal Urdu University of Arts, Science & Technology, Islamabad.\\nBachelor of Science - BS,\\xa0Computer Science\\xa0·\\xa0(2010\\xa0-\\xa02015)\\n\\xa0 Page 2 of 2\\n\\nWith this context, please chat with the user, always staying in character as Arsalan Ali.\""
      ]
     },
     "execution_count": 35,
     "metadata": {},
     "output_type": "execute_result"
    }
   ],
   "source": [
    "system_prompt"
   ]
  },
  {
   "cell_type": "code",
   "execution_count": 36,
   "metadata": {},
   "outputs": [],
   "source": [
    "def chat(message, history):\n",
    "    messages = [{\"role\": \"system\", \"content\": system_prompt}] + history + [{\"role\": \"user\", \"content\": message}]\n",
    "    response = openai.chat.completions.create(model=\"gpt-4o-mini\", messages=messages)\n",
    "    return response.choices[0].message.content"
   ]
  },
  {
   "cell_type": "code",
   "execution_count": 37,
   "metadata": {},
   "outputs": [
    {
     "name": "stdout",
     "output_type": "stream",
     "text": [
      "* Running on local URL:  http://127.0.0.1:7862\n",
      "* To create a public link, set `share=True` in `launch()`.\n"
     ]
    },
    {
     "data": {
      "text/html": [
       "<div><iframe src=\"http://127.0.0.1:7862/\" width=\"100%\" height=\"500\" allow=\"autoplay; camera; microphone; clipboard-read; clipboard-write;\" frameborder=\"0\" allowfullscreen></iframe></div>"
      ],
      "text/plain": [
       "<IPython.core.display.HTML object>"
      ]
     },
     "metadata": {},
     "output_type": "display_data"
    },
    {
     "data": {
      "text/plain": []
     },
     "execution_count": 37,
     "metadata": {},
     "output_type": "execute_result"
    }
   ],
   "source": [
    "gr.ChatInterface(chat, type=\"messages\").launch()"
   ]
  },
  {
   "cell_type": "markdown",
   "metadata": {},
   "source": [
    "## Evaluator - Optimizer\n",
    "\n",
    "1. Be able to ask an LLM to evaluate an answer\n",
    "2. Be able to rerun if the answer fails evaluation\n",
    "3. Put this together into 1 workflow\n",
    "\n",
    "All without any Agentic framework!"
   ]
  },
  {
   "cell_type": "markdown",
   "metadata": {},
   "source": [
    "### Step 1: Create a Class - An output structure we expect from the Evaluator LLM"
   ]
  },
  {
   "cell_type": "code",
   "execution_count": 42,
   "metadata": {},
   "outputs": [],
   "source": [
    "# Create a Pydantic model for the Evaluation\n",
    "\n",
    "from pydantic import BaseModel\n",
    "\n",
    "class Evaluation(BaseModel):\n",
    "    is_acceptable: bool\n",
    "    feedback: str\n"
   ]
  },
  {
   "cell_type": "markdown",
   "metadata": {},
   "source": [
    "### Step 2: Create System Prompt for the Evaluator - To assign it the role of an Evaluator"
   ]
  },
  {
   "cell_type": "code",
   "execution_count": 43,
   "metadata": {},
   "outputs": [],
   "source": [
    "evaluator_system_prompt = f\"You are an evaluator that decides whether a response to a question is acceptable. \\\n",
    "You are provided with a conversation between a User and an Agent. Your task is to decide whether the Agent's latest response is acceptable quality. \\\n",
    "The Agent is playing the role of {name} and is representing {name} on their website. \\\n",
    "The Agent has been instructed to be professional and engaging, as if talking to a potential client or future employer who came across the website. \\\n",
    "The Agent has been provided with context on {name} in the form of their summary and LinkedIn details. Here's the information:\"\n",
    "\n",
    "evaluator_system_prompt += f\"\\n\\n## Summary:\\n{summary}\\n\\n## LinkedIn Profile:\\n{linkedin}\\n\\n\"\n",
    "evaluator_system_prompt += f\"With this context, please evaluate the latest response, replying with whether the response is acceptable and your feedback.\""
   ]
  },
  {
   "cell_type": "markdown",
   "metadata": {},
   "source": [
    "### Step 3: Create User Prompt for Evaluator - So it knows what User and Agent LLM are discussing"
   ]
  },
  {
   "cell_type": "code",
   "execution_count": 44,
   "metadata": {},
   "outputs": [],
   "source": [
    "def evaluator_user_prompt(reply, message, history):\n",
    "    user_prompt = f\"Here's the conversation between the User and the Agent: \\n\\n{history}\\n\\n\"\n",
    "    user_prompt += f\"Here's the latest message from the User: \\n\\n{message}\\n\\n\"\n",
    "    user_prompt += f\"Here's the latest response from the Agent: \\n\\n{reply}\\n\\n\"\n",
    "    user_prompt += f\"Please evaluate the response, replying with whether it is acceptable and your feedback.\"\n",
    "    return user_prompt"
   ]
  },
  {
   "cell_type": "markdown",
   "metadata": {},
   "source": [
    "### Step 4: Decide the LLM Model that'll act as the Evaluator"
   ]
  },
  {
   "cell_type": "code",
   "execution_count": 45,
   "metadata": {},
   "outputs": [],
   "source": [
    "import os\n",
    "gemini = OpenAI(\n",
    "    api_key=os.getenv(\"GOOGLE_API_KEY\"), \n",
    "    base_url=\"https://generativelanguage.googleapis.com/v1beta/openai/\"\n",
    ")"
   ]
  },
  {
   "cell_type": "markdown",
   "metadata": {},
   "source": [
    "### Step 5: Create a Function that will:\n",
    "* Assign the role (Evalutor) to the LLM Model \n",
    "* Provide the User & Agent LLM dicussion to the Evaluator"
   ]
  },
  {
   "cell_type": "code",
   "execution_count": 46,
   "metadata": {},
   "outputs": [],
   "source": [
    "def evaluate(reply, message, history) -> Evaluation:\n",
    "\n",
    "    messages = [{\"role\": \"system\", \"content\": evaluator_system_prompt}] + [{\"role\": \"user\", \"content\": evaluator_user_prompt(reply, message, history)}]\n",
    "    response = gemini.beta.chat.completions.parse(model=\"gemini-2.0-flash\", messages=messages, response_format=Evaluation)\n",
    "    return response.choices[0].message.parsed"
   ]
  },
  {
   "cell_type": "markdown",
   "metadata": {},
   "source": [
    "### Step 6: Manually Test if Evalutor is Working:\n",
    "* Get a response from Agent LLM by asking it a question\n",
    "* Use the Evaluator Function to check it Evaluator is working well"
   ]
  },
  {
   "cell_type": "code",
   "execution_count": 47,
   "metadata": {},
   "outputs": [
    {
     "data": {
      "text/plain": [
       "'I currently do not hold any patents. My focus has primarily been on developing skills in AI, machine learning, and data science, along with practical applications of these technologies. If you have any questions about my projects or areas of expertise, I would be more than happy to discuss them!'"
      ]
     },
     "execution_count": 47,
     "metadata": {},
     "output_type": "execute_result"
    }
   ],
   "source": [
    "messages = [{\"role\": \"system\", \"content\": system_prompt}] + [{\"role\": \"user\", \"content\": \"do you hold a patent?\"}]\n",
    "response = openai.chat.completions.create(model=\"gpt-4o-mini\", messages=messages)\n",
    "reply = response.choices[0].message.content\n",
    "reply"
   ]
  },
  {
   "cell_type": "code",
   "execution_count": 48,
   "metadata": {},
   "outputs": [
    {
     "data": {
      "text/plain": [
       "Evaluation(is_acceptable=True, feedback='The response is appropriate and professional. It acknowledges that Arsalan does not hold any patents and redirects the conversation back to his areas of expertise and projects. This is a good way to keep the conversation relevant and engaging.')"
      ]
     },
     "execution_count": 48,
     "metadata": {},
     "output_type": "execute_result"
    }
   ],
   "source": [
    "evaluate(reply, \"do you hold a patent?\", messages[:1])"
   ]
  },
  {
   "cell_type": "markdown",
   "metadata": {},
   "source": [
    "### Step 7: Add another function - If Evaluator thinks the Agent LLM response is not acceptable\n",
    "* Provide the Agent LLM the reason the Evaluator rejected its response\n",
    "* Ask the Agent LLM again to provide the answer to user's query but this time keeping the Evalutor's rejection in mind"
   ]
  },
  {
   "cell_type": "code",
   "execution_count": 49,
   "metadata": {},
   "outputs": [],
   "source": [
    "def rerun(reply, message, history, feedback):\n",
    "    updated_system_prompt = system_prompt + f\"\\n\\n## Previous answer rejected\\nYou just tried to reply, but the quality control rejected your reply\\n\"\n",
    "    updated_system_prompt += f\"## Your attempted answer:\\n{reply}\\n\\n\"\n",
    "    updated_system_prompt += f\"## Reason for rejection:\\n{feedback}\\n\\n\"\n",
    "    messages = [{\"role\": \"system\", \"content\": updated_system_prompt}] + history + [{\"role\": \"user\", \"content\": message}]\n",
    "    response = openai.chat.completions.create(model=\"gpt-4o-mini\", messages=messages)\n",
    "    return response.choices[0].message.content"
   ]
  },
  {
   "cell_type": "markdown",
   "metadata": {},
   "source": [
    "### Gradio - All the above in Gradio Chat\n",
    "* To Test the \"Rerun\", we've added \"Pig Latin\" to the word \"Patent\"\n",
    "* If user asks about \"Patent\", the \"Pig Latin\" instruction is sent to Agent LLM\n",
    "* Evaluator will reject \"Pig Latin\" response and ask Agent LLM to reply again"
   ]
  },
  {
   "cell_type": "code",
   "execution_count": 50,
   "metadata": {},
   "outputs": [],
   "source": [
    "def chat(message, history):\n",
    "    if \"patent\" in message:\n",
    "        system = system_prompt + \"\\n\\nEverything in your reply needs to be in pig latin - \\\n",
    "              it is mandatory that you respond only and entirely in pig latin\"\n",
    "    else:\n",
    "        system = system_prompt\n",
    "    messages = [{\"role\": \"system\", \"content\": system}] + history + [{\"role\": \"user\", \"content\": message}]\n",
    "    response = openai.chat.completions.create(model=\"gpt-4o-mini\", messages=messages)\n",
    "    reply =response.choices[0].message.content\n",
    "\n",
    "    evaluation = evaluate(reply, message, history)\n",
    "    \n",
    "    if evaluation.is_acceptable:\n",
    "        print(\"Passed evaluation - returning reply\")\n",
    "    else:\n",
    "        print(\"Failed evaluation - retrying\")\n",
    "        print(evaluation.feedback)\n",
    "        reply = rerun(reply, message, history, evaluation.feedback)       \n",
    "    return reply"
   ]
  },
  {
   "cell_type": "code",
   "execution_count": 51,
   "metadata": {},
   "outputs": [
    {
     "name": "stdout",
     "output_type": "stream",
     "text": [
      "* Running on local URL:  http://127.0.0.1:7863\n",
      "* To create a public link, set `share=True` in `launch()`.\n"
     ]
    },
    {
     "data": {
      "text/html": [
       "<div><iframe src=\"http://127.0.0.1:7863/\" width=\"100%\" height=\"500\" allow=\"autoplay; camera; microphone; clipboard-read; clipboard-write;\" frameborder=\"0\" allowfullscreen></iframe></div>"
      ],
      "text/plain": [
       "<IPython.core.display.HTML object>"
      ]
     },
     "metadata": {},
     "output_type": "display_data"
    },
    {
     "data": {
      "text/plain": []
     },
     "execution_count": 51,
     "metadata": {},
     "output_type": "execute_result"
    },
    {
     "name": "stdout",
     "output_type": "stream",
     "text": [
      "Failed evaluation - retrying\n",
      "The response is not acceptable because it is written in pig latin and nonsensical. Arsalan does not have patents, so the response should have said that.\n"
     ]
    }
   ],
   "source": [
    "gr.ChatInterface(chat, type=\"messages\").launch()"
   ]
  },
  {
   "cell_type": "code",
   "execution_count": null,
   "metadata": {},
   "outputs": [],
   "source": []
  }
 ],
 "metadata": {
  "kernelspec": {
   "display_name": "llm_environment",
   "language": "python",
   "name": "python3"
  },
  "language_info": {
   "codemirror_mode": {
    "name": "ipython",
    "version": 3
   },
   "file_extension": ".py",
   "mimetype": "text/x-python",
   "name": "python",
   "nbconvert_exporter": "python",
   "pygments_lexer": "ipython3",
   "version": "3.11.9"
  }
 },
 "nbformat": 4,
 "nbformat_minor": 2
}
